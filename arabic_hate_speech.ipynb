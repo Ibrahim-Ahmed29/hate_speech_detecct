{
 "cells": [
  {
   "cell_type": "code",
   "execution_count": 1,
   "id": "16544be8-e390-44fb-9675-7f5b26039d43",
   "metadata": {},
   "outputs": [
    {
     "name": "stdout",
     "output_type": "stream",
     "text": [
      "63741\n"
     ]
    },
    {
     "data": {
      "image/png": "[encoded data removed]",
      "text/plain": [
       "<Figure size 640x480 with 1 Axes>"
      ]
     },
     "metadata": {},
     "output_type": "display_data"
    }
   ],
   "source": [
    "import numpy as np\n",
    "import seaborn as sns\n",
    "import pandas as pd\n",
    "# Read the main training dataset\n",
    "df = pd.read_csv(\"training_ds1.csv\")\n",
    "df.rename(columns={'label': 'Label', \"text\": \"X\"}, inplace=True)\n",
    "\n",
    "# Read and concatenate additional datasets\n",
    "df2 = pd.read_csv(\"train.csv\")\n",
    "df2.rename(columns={'Class': 'Label', \"Tweet\": \"X\"}, inplace=True)\n",
    "df2['Label'] = np.where(df2['Label'] == 'normal', 0, 1)\n",
    "df = pd.concat([df, df2], ignore_index=True)\n",
    "\n",
    "df3 = pd.read_csv(\"test.csv\")\n",
    "df3.rename(columns={'Class': 'Label', \"Tweet\": \"X\"}, inplace=True)\n",
    "df3['Label'] = np.where(df3['Label'] == 'normal', 0, 1)\n",
    "df = pd.concat([df, df3], ignore_index=True)\n",
    "\n",
    "train_pos = pd.read_csv('train_Arabic_tweets_positive_20190413.tsv', sep='\\t', header=None)\n",
    "train_neg = pd.read_csv('train_Arabic_tweets_negative_20190413.tsv', sep='\\t', header=None)\n",
    "test_pos = pd.read_csv('test_Arabic_tweets_positive_20190413.tsv', sep='\\t', header=None)\n",
    "test_neg = pd.read_csv('test_Arabic_tweets_negative_20190413.tsv', sep='\\t', header=None)\n",
    "\n",
    "data = pd.concat([train_pos, train_neg, test_pos, test_neg])\n",
    "data.columns = ['Label', 'X']\n",
    "data['Label'] = np.where(data['Label'] == 'neg', 1, 0)\n",
    "\n",
    "df = pd.concat([df, data], ignore_index=True)\n",
    "\n",
    "# Visualize the distribution of labels\n",
    "sns.countplot(x=\"Label\", data=df)\n",
    "print(len(df))"
   ]
  },
  {
   "cell_type": "code",
   "execution_count": 2,
   "id": "7983835e-4c8b-4fbe-b957-e2887d0945f0",
   "metadata": {},
   "outputs": [],
   "source": [
    "import pandas as pd\n",
    "\n",
    "# Step 1: Read the text file\n",
    "with open('arabic-bad-words-list_text-file_one-word-per-line.txt', 'r', encoding='utf-8') as file:\n",
    "    sentences = file.readlines()\n",
    "\n",
    "sentences = [sentence.strip() for sentence in sentences]\n",
    "\n",
    "df4 = pd.DataFrame(sentences, columns=['X'])\n",
    "\n",
    "df4['Label'] = 1"
   ]
  },
  {
   "cell_type": "code",
   "execution_count": 3,
   "id": "065032bb-5f06-4386-b0cf-2e98b4cb83b2",
   "metadata": {},
   "outputs": [],
   "source": [
    "df = pd.concat([df, df4], ignore_index=True)"
   ]
  },
  {
   "cell_type": "code",
   "execution_count": 4,
   "id": "8221f114-686c-42ec-89cc-5a48f171b986",
   "metadata": {},
   "outputs": [],
   "source": [
    "arabic_nltk = df.copy()"
   ]
  },
  {
   "cell_type": "code",
   "execution_count": 5,
   "id": "7544085d-5e82-480d-8664-6d35c45f2aad",
   "metadata": {},
   "outputs": [
    {
     "name": "stdout",
     "output_type": "stream",
     "text": [
      "21014\n",
      "0\n"
     ]
    }
   ],
   "source": [
    "print(df.duplicated().sum().sum())  # Number Of Dupliactes Before Delete\n",
    "df = df.drop_duplicates(keep='first')\n",
    "print(df.duplicated().sum().sum()) # Number Of Dupliactes After Delete"
   ]
  },
  {
   "cell_type": "code",
   "execution_count": 6,
   "id": "4b5e31e9-3315-452b-a648-f1c42dda035c",
   "metadata": {},
   "outputs": [
    {
     "name": "stdout",
     "output_type": "stream",
     "text": [
      "                                                   X  Label\n",
      "0  مبروك و سامحونا لعجزنا التام. عقبال اللي جوه. ...      0\n",
      "1  كلنا بره ومش هنبطل نزايد على العجايز الي جابون...      1\n",
      "2          بدل ما انت قاعد بره كده تعالي ازرع الصحرا      0\n",
      "3      قذر اتفووو ماتيجى مصر وتورينا نفسك كدا ياجبان      1\n",
      "4  وهكذا رجال الشو اللي محرومين من عمل برنامج الغ...      1\n"
     ]
    }
   ],
   "source": [
    "\n",
    "import re\n",
    "df['X'] = df['X'].apply(lambda x: re.sub(r'http\\S+', '', x)) # remove URLs\n",
    "df['X'] = df['X'].apply(lambda x: re.sub(r'@\\S+', '', x)) # remove mentions\n",
    "df['X'] = df['X'].apply(lambda x: re.sub(r'#\\S+', '', x)) # remove hashtags\n",
    "print(df.head())\n",
    "\n"
   ]
  },
  {
   "cell_type": "code",
   "execution_count": 7,
   "id": "c1dcbc32-34b2-4886-ade2-ac6436fa551c",
   "metadata": {},
   "outputs": [],
   "source": [
    "import nltk\n",
    "import pandas as pd\n",
    "from nltk.tokenize import word_tokenize\n",
    "from nltk.corpus import stopwords\n",
    "# from nltk.stem import WordNetLemmatizer\n",
    "from nltk.stem.isri import ISRIStemmer\n",
    "import string\n",
    "st = ISRIStemmer()\n",
    "\n",
    "stop_words = stopwords.words('arabic')\n",
    "\n",
    "\n",
    "df['tokenized_text'] = df['X'].apply(lambda x: word_tokenize(x.lower()))\n",
    "df['filtered_text'] = df['tokenized_text'].apply(lambda x: [word for word in x if word not in stop_words])\n",
    "\n",
    "\n",
    "\n",
    "# lemmatizer = WordNetLemmatizer()\n",
    "# df['lemmatized_text'] = df['filtered_text'].apply(lambda x: [lemmatizer.lemmatize(word) for word in x])\n",
    "\n",
    "\n",
    "\n",
    "df['stemmed_text'] = df['filtered_text'].apply(lambda x: [st.stem(word) for word in x])\n",
    "\n",
    "df['processed_text'] = df['stemmed_text'].apply(lambda x: ' '.join(x))\n",
    "df['processed_text'] = df['processed_text'].apply(lambda x: x.translate(str.maketrans(\"\", \"\", string.punctuation)))"
   ]
  },
  {
   "cell_type": "code",
   "execution_count": 49,
   "id": "3d4abbe0-77f2-4ec8-b5c7-d3eab3fe68d0",
   "metadata": {},
   "outputs": [],
   "source": [
    "from sklearn.model_selection import train_test_split\n",
    "y = df['Label']\n",
    "X_train, X_test, y_train, y_test = train_test_split(df[\"X\"], y, test_size=0.3, random_state=42,stratify=y)"
   ]
  },
  {
   "cell_type": "code",
   "execution_count": 41,
   "id": "c6233161-2708-441c-aef4-5313563a4ff0",
   "metadata": {},
   "outputs": [],
   "source": [
    "from sklearn.pipeline import Pipeline\n",
    "from sklearn.feature_extraction.text import TfidfVectorizer\n",
    "from sklearn.metrics import classification_report\n",
    "\n",
    "\n",
    "tfidf = TfidfVectorizer(analyzer='char_wb',ngram_range=(3,10))"
   ]
  },
  {
   "cell_type": "code",
   "execution_count": 50,
   "id": "e7ab8f72-6968-426b-860b-d9f2b52944c0",
   "metadata": {},
   "outputs": [
    {
     "name": "stderr",
     "output_type": "stream",
     "text": [
      "/home/ibrahim-ahmed/anaconda3/lib/python3.11/site-packages/sklearn/svm/_classes.py:31: FutureWarning: The default value of `dual` will change from `True` to `'auto'` in 1.5. Set the value of `dual` explicitly to suppress the warning.\n",
      "  warnings.warn(\n"
     ]
    }
   ],
   "source": [
    "from sklearn.svm import LinearSVC\n",
    "\n",
    "MySVC = LinearSVC()\n",
    "\n",
    "ModelSVC = Pipeline([\n",
    "    ('tfidf', tfidf),\n",
    "    ('clf', MySVC)\n",
    "])\n",
    "\n",
    "ModelSVC.fit(X_train, y_train)\n",
    "PredictionSVC = ModelSVC.predict(X_test)\n"
   ]
  },
  {
   "cell_type": "code",
   "execution_count": 51,
   "id": "bb06216f-4eee-4b48-a4ea-aef8fd9ef96a",
   "metadata": {},
   "outputs": [],
   "source": [
    "from sklearn.linear_model import LogisticRegression\n",
    "\n",
    "ModelUsingLG = Pipeline([\n",
    "    ('tfidf' , MyTF_IDF) , \n",
    "    ('LG', LogisticRegression())])\n",
    "\n",
    "\n",
    "ModelUsingLG.fit(X_train,y_train)\n",
    "PredictionLG = ModelUsingLG.predict(X_test)"
   ]
  },
  {
   "cell_type": "code",
   "execution_count": 52,
   "id": "604e3762-b321-4e92-b1f0-23e6098588bf",
   "metadata": {},
   "outputs": [
    {
     "name": "stdout",
     "output_type": "stream",
     "text": [
      "Using Linear SVC : \n",
      "              precision    recall  f1-score   support\n",
      "\n",
      "           0       0.87      0.88      0.88      3225\n",
      "           1       0.88      0.88      0.88      3251\n",
      "\n",
      "    accuracy                           0.88      6476\n",
      "   macro avg       0.88      0.88      0.88      6476\n",
      "weighted avg       0.88      0.88      0.88      6476\n",
      "\n",
      "********************\n",
      "\n",
      "Using Logistic Regression : \n",
      "              precision    recall  f1-score   support\n",
      "\n",
      "           0       0.85      0.86      0.85      3225\n",
      "           1       0.86      0.85      0.85      3251\n",
      "\n",
      "    accuracy                           0.85      6476\n",
      "   macro avg       0.85      0.85      0.85      6476\n",
      "weighted avg       0.85      0.85      0.85      6476\n",
      "\n",
      "********************\n",
      "\n"
     ]
    }
   ],
   "source": [
    "from sklearn.metrics import classification_report\n",
    "print(\"Using Linear SVC : \")\n",
    "print(classification_report(y_test , PredictionSVC))\n",
    "print(\"*\"*20)\n",
    "print()\n",
    "\n",
    "\n",
    "\n",
    "print(\"Using Logistic Regression : \")\n",
    "print(classification_report(y_test , PredictionLG))\n",
    "print(\"*\"*20)\n",
    "print()"
   ]
  },
  {
   "cell_type": "code",
   "execution_count": 53,
   "id": "c4249b7c-3574-481c-8283-b896e5718b85",
   "metadata": {},
   "outputs": [],
   "source": [
    "y_scores = ModelSVC.decision_function(X_test)"
   ]
  },
  {
   "cell_type": "code",
   "execution_count": 54,
   "id": "476bed05-053a-4e5e-820b-ca22f9b27176",
   "metadata": {},
   "outputs": [
    {
     "data": {
      "image/png": "[encoded data removed]",
      "text/plain": [
       "<Figure size 640x480 with 1 Axes>"
      ]
     },
     "metadata": {},
     "output_type": "display_data"
    },
    {
     "name": "stdout",
     "output_type": "stream",
     "text": [
      "Selected Threshold: -0.11\n",
      "              precision    recall  f1-score   support\n",
      "\n",
      "           0       0.90      0.84      0.87      3225\n",
      "           1       0.85      0.90      0.88      3251\n",
      "\n",
      "    accuracy                           0.87      6476\n",
      "   macro avg       0.87      0.87      0.87      6476\n",
      "weighted avg       0.87      0.87      0.87      6476\n",
      "\n"
     ]
    }
   ],
   "source": [
    "import matplotlib.pyplot as plt\n",
    "from sklearn.metrics import precision_recall_curve\n",
    "\n",
    "precision, recall, thresholds = precision_recall_curve(y_test, y_scores)\n",
    "\n",
    "\n",
    "plt.figure()\n",
    "plt.plot(recall, precision, color='b', label='Precision-Recall curve')\n",
    "plt.xlabel('Recall')\n",
    "plt.ylabel('Precision')\n",
    "plt.ylim([0.0, 1.05])\n",
    "plt.xlim([0.0, 1.0])\n",
    "plt.title('Precision-Recall Curve')\n",
    "\n",
    "\n",
    "\n",
    "desired_precision = 0.93\n",
    "threshold_index = next(i for i, p in enumerate(precision) if p >= desired_precision)\n",
    "threshold = thresholds[threshold_index]\n",
    "\n",
    "\n",
    "\n",
    "plt.axhline(y=desired_precision, color='r', linestyle='--', label=f'Precision = {desired_precision:.2f}')\n",
    "plt.axvline(x=recall[threshold_index], color='g', linestyle='--', label=f'Recall = {recall[threshold_index]:.2f}')\n",
    "plt.scatter(recall[threshold_index], desired_precision, color='g', s=100, label=f'Threshold = {threshold:.2f}')\n",
    "plt.legend()\n",
    "\n",
    "plt.show()\n",
    "\n",
    "\n",
    "y_pred = (y_scores > threshold).astype(int)\n",
    "\n",
    "\n",
    "print(f\"Selected Threshold: {threshold:.2f}\")\n",
    "print(classification_report(y_test, y_pred))\n"
   ]
  },
  {
   "cell_type": "code",
   "execution_count": null,
   "id": "d25f0f9f-b363-4d7b-a0f8-ff0efd7f9411",
   "metadata": {},
   "outputs": [],
   "source": []
  },
  {
   "cell_type": "code",
   "execution_count": null,
   "id": "1f9e51b0-175a-41f2-9578-6b276b117497",
   "metadata": {},
   "outputs": [],
   "source": []
  },
  {
   "cell_type": "code",
   "execution_count": null,
   "id": "75b65b4f-ecfd-4c5b-b42f-7515647b6cad",
   "metadata": {},
   "outputs": [],
   "source": []
  },
  {
   "cell_type": "code",
   "execution_count": null,
   "id": "07a475d8-ebf4-4e57-91cd-0c51696fd08d",
   "metadata": {},
   "outputs": [],
   "source": []
  },
  {
   "cell_type": "code",
   "execution_count": 56,
   "id": "e0c4f00c-eb5c-431f-923b-b92f7e1324e1",
   "metadata": {},
   "outputs": [],
   "source": [
    "import xgboost as xgb\n",
    "\n",
    "\n",
    "ModelXGB = Pipeline([('tfidf' , MyTF_IDF) , ('XGB', xgb.XGBClassifier(objective=\"multi:softmax\", num_class=2, random_state=123)\n",
    ")])\n",
    "ModelXGB.fit(X_train, y_train)\n",
    "PredictionXGB = ModelXGB.predict(X_test)"
   ]
  },
  {
   "cell_type": "code",
   "execution_count": 57,
   "id": "b3ca4ea1-7e14-472b-a4bc-0f3f45d617aa",
   "metadata": {},
   "outputs": [
    {
     "name": "stdout",
     "output_type": "stream",
     "text": [
      "Using XGB : \n",
      "              precision    recall  f1-score   support\n",
      "\n",
      "           0       0.83      0.96      0.89      3225\n",
      "           1       0.95      0.80      0.87      3251\n",
      "\n",
      "    accuracy                           0.88      6476\n",
      "   macro avg       0.89      0.88      0.88      6476\n",
      "weighted avg       0.89      0.88      0.88      6476\n",
      "\n",
      "********************\n",
      "\n"
     ]
    }
   ],
   "source": [
    "print(\"Using XGB : \")\n",
    "print(classification_report(y_test , PredictionXGB))\n",
    "print(\"*\"*20)\n",
    "print()"
   ]
  },
  {
   "cell_type": "code",
   "execution_count": 79,
   "id": "5441116e-e7cb-4ba6-b116-1c0923d6f376",
   "metadata": {},
   "outputs": [
    {
     "data": {
      "image/png": "[encoded data removed]",
      "text/plain": [
       "<Figure size 640x480 with 2 Axes>"
      ]
     },
     "metadata": {},
     "output_type": "display_data"
    }
   ],
   "source": [
    "from sklearn.metrics import ConfusionMatrixDisplay\n",
    "import matplotlib.pyplot as plt\n",
    "\n",
    "ConfusionMatrixDisplay.from_predictions(y_test, PredictionXGB, normalize=\"true\")\n",
    "plt.show()"
   ]
  },
  {
   "cell_type": "code",
   "execution_count": 59,
   "id": "7d65f724-1afe-4e02-ab9d-58a22fb6acc4",
   "metadata": {},
   "outputs": [],
   "source": [
    "XGB_score = ModelXGB.predict_proba(X_test)[:, 1]"
   ]
  },
  {
   "cell_type": "code",
   "execution_count": 67,
   "id": "69fa8c8a-9dff-427f-86a8-039af217312e",
   "metadata": {},
   "outputs": [
    {
     "data": {
      "image/png": "[encoded data removed]",
      "text/plain": [
       "<Figure size 640x480 with 1 Axes>"
      ]
     },
     "metadata": {},
     "output_type": "display_data"
    },
    {
     "name": "stdout",
     "output_type": "stream",
     "text": [
      "Selected Threshold: 0.46\n",
      "              precision    recall  f1-score   support\n",
      "\n",
      "           0       0.83      0.95      0.89      3225\n",
      "           1       0.94      0.81      0.87      3251\n",
      "\n",
      "    accuracy                           0.88      6476\n",
      "   macro avg       0.89      0.88      0.88      6476\n",
      "weighted avg       0.89      0.88      0.88      6476\n",
      "\n"
     ]
    }
   ],
   "source": [
    "import matplotlib.pyplot as plt\n",
    "from sklearn.metrics import precision_recall_curve\n",
    "\n",
    "# Compute precision-recall pairs\n",
    "precision, recall, thresholds = precision_recall_curve(y_test, XGB_score)\n",
    "\n",
    "# Plot precision-recall curve\n",
    "plt.figure()\n",
    "plt.plot(recall, precision, color='b', label='Precision-Recall curve')\n",
    "plt.xlabel('Recall')\n",
    "plt.ylabel('Precision')\n",
    "plt.ylim([0.0, 1.05])\n",
    "plt.xlim([0.0, 1.0])\n",
    "plt.title('Precision-Recall Curve')\n",
    "\n",
    "# Example: Identify threshold where precision is at least 0.85\n",
    "desired_precision = 0.94\n",
    "threshold_index = next(i for i, p in enumerate(precision) if p >= desired_precision)\n",
    "threshold = thresholds[threshold_index]\n",
    "\n",
    "# Plot threshold on the precision-recall curve\n",
    "plt.axhline(y=desired_precision, color='r', linestyle='--', label=f'Precision = {desired_precision:.2f}')\n",
    "plt.axvline(x=recall[threshold_index], color='g', linestyle='--', label=f'Recall = {recall[threshold_index]:.2f}')\n",
    "plt.scatter(recall[threshold_index], desired_precision, color='g', s=100, label=f'Threshold = {threshold:.2f}')\n",
    "plt.legend()\n",
    "\n",
    "plt.show()\n",
    "\n",
    "# Use the selected threshold for classification\n",
    "y_pred = (XGB_score > threshold).astype(int)\n",
    "\n",
    "# Evaluate classification\n",
    "print(f\"Selected Threshold: {threshold:.2f}\")\n",
    "print(classification_report(y_test, y_pred))\n"
   ]
  },
  {
   "cell_type": "code",
   "execution_count": 69,
   "id": "28c6eaf4-1cdc-4878-a1cb-b24196b86bfb",
   "metadata": {},
   "outputs": [
    {
     "name": "stderr",
     "output_type": "stream",
     "text": [
      "/home/ibrahim-ahmed/anaconda3/lib/python3.11/site-packages/sklearn/svm/_classes.py:31: FutureWarning: The default value of `dual` will change from `True` to `'auto'` in 1.5. Set the value of `dual` explicitly to suppress the warning.\n",
      "  warnings.warn(\n"
     ]
    }
   ],
   "source": [
    "from sklearn.ensemble import VotingClassifier\n",
    "\n",
    "voting_clf = VotingClassifier(estimators=[\n",
    "    ('xgb', ModelXGB),\n",
    "    ('svc', ModelSVC)\n",
    "], voting='hard') \n",
    "\n",
    "# Fit the VotingClassifier\n",
    "voting_clf.fit(X_train, y_train)\n",
    "\n",
    "# Predict using the VotingClassifier\n",
    "predictions = voting_clf.predict(X_test)\n"
   ]
  },
  {
   "cell_type": "code",
   "execution_count": 70,
   "id": "ee934a9c-c4a6-4370-a77d-8129301c7df6",
   "metadata": {},
   "outputs": [
    {
     "name": "stdout",
     "output_type": "stream",
     "text": [
      "voting_clf : \n",
      "              precision    recall  f1-score   support\n",
      "\n",
      "           0       0.80      0.97      0.88      3225\n",
      "           1       0.96      0.76      0.85      3251\n",
      "\n",
      "    accuracy                           0.87      6476\n",
      "   macro avg       0.88      0.87      0.86      6476\n",
      "weighted avg       0.88      0.87      0.86      6476\n",
      "\n",
      "********************\n",
      "\n"
     ]
    }
   ],
   "source": [
    "print(\"voting_clf : \")\n",
    "print(classification_report(y_test , predictions))\n",
    "print(\"*\"*20)\n",
    "print()"
   ]
  },
  {
   "cell_type": "code",
   "execution_count": null,
   "id": "602e2e93-fac9-491c-8788-8abc1ecb1432",
   "metadata": {},
   "outputs": [],
   "source": []
  },
  {
   "cell_type": "code",
   "execution_count": null,
   "id": "b67134f6-7c92-4fb7-9b3b-372a8f83bef4",
   "metadata": {},
   "outputs": [],
   "source": []
  },
  {
   "cell_type": "code",
   "execution_count": null,
   "id": "42f9ac2a-1d71-452f-814a-83a2c5b45df5",
   "metadata": {},
   "outputs": [],
   "source": [
    "MyTF_IDF_2 = TfidfVectorizer(analyzer='char_wb',ngram_range=(1,3))"
   ]
  },
  {
   "cell_type": "code",
   "execution_count": 84,
   "id": "9c486029-c448-4192-be2c-bf5f56ce984c",
   "metadata": {},
   "outputs": [
    {
     "name": "stderr",
     "output_type": "stream",
     "text": [
      "/home/ibrahim-ahmed/anaconda3/lib/python3.11/site-packages/sklearn/svm/_classes.py:31: FutureWarning: The default value of `dual` will change from `True` to `'auto'` in 1.5. Set the value of `dual` explicitly to suppress the warning.\n",
      "  warnings.warn(\n"
     ]
    }
   ],
   "source": [
    "from sklearn.svm import LinearSVC\n",
    "\n",
    "MySVC_2= LinearSVC()\n",
    "\n",
    "ModelSVC_2 = Pipeline([\n",
    "    ('tfidf', MyTF_IDF_2),\n",
    "    ('clf', MySVC_2)\n",
    "])\n",
    "\n",
    "ModelSVC_2.fit(X_train, y_train)\n",
    "PredictionSVC_2 = ModelSVC_2.predict(X_test)"
   ]
  },
  {
   "cell_type": "code",
   "execution_count": 83,
   "id": "a614c865-7bb1-4727-83dd-27927303231f",
   "metadata": {},
   "outputs": [],
   "source": [
    "from sklearn.linear_model import LogisticRegression\n",
    "\n",
    "ModelUsingLG_2 = Pipeline([\n",
    "    ('tfidf' , MyTF_IDF_2) , \n",
    "    ('LG', LogisticRegression())])\n",
    "\n",
    "\n",
    "ModelUsingLG_2.fit(X_train,y_train)\n",
    "PredictionLG_2 = ModelUsingLG_2.predict(X_test)"
   ]
  },
  {
   "cell_type": "code",
   "execution_count": 76,
   "id": "e030c6dc-ebf0-4665-bb3e-087065a9d5a3",
   "metadata": {},
   "outputs": [
    {
     "name": "stdout",
     "output_type": "stream",
     "text": [
      "Using Linear SVC : \n",
      "              precision    recall  f1-score   support\n",
      "\n",
      "           0       0.87      0.88      0.88      3225\n",
      "           1       0.88      0.88      0.88      3251\n",
      "\n",
      "    accuracy                           0.88      6476\n",
      "   macro avg       0.88      0.88      0.88      6476\n",
      "weighted avg       0.88      0.88      0.88      6476\n",
      "\n",
      "********************\n",
      "\n",
      "Using Logistic Regression : \n",
      "              precision    recall  f1-score   support\n",
      "\n",
      "           0       0.85      0.86      0.85      3225\n",
      "           1       0.86      0.85      0.85      3251\n",
      "\n",
      "    accuracy                           0.85      6476\n",
      "   macro avg       0.85      0.85      0.85      6476\n",
      "weighted avg       0.85      0.85      0.85      6476\n",
      "\n",
      "********************\n",
      "\n"
     ]
    }
   ],
   "source": [
    "from sklearn.metrics import classification_report\n",
    "print(\"Using Linear SVC : \")\n",
    "print(classification_report(y_test , PredictionSVC_2))\n",
    "print(\"*\"*20)\n",
    "print()\n",
    "\n",
    "\n",
    "\n",
    "print(\"Using Logistic Regression : \")\n",
    "print(classification_report(y_test , PredictionLG_2))\n",
    "print(\"*\"*20)\n",
    "print()"
   ]
  },
  {
   "cell_type": "code",
   "execution_count": 77,
   "id": "1372c786-1054-4ebc-b8a3-1aab097dcbf5",
   "metadata": {},
   "outputs": [],
   "source": [
    "import xgboost as xgb\n",
    "\n",
    "\n",
    "ModelXGB_2 = Pipeline([('tfidf' , MyTF_IDF) , ('XGB', xgb.XGBClassifier(objective=\"multi:softmax\", num_class=2, random_state=123)\n",
    ")])\n",
    "ModelXGB_2.fit(X_train, y_train)\n",
    "PredictionXGB_2 = ModelXGB_2.predict(X_test)"
   ]
  },
  {
   "cell_type": "code",
   "execution_count": 78,
   "id": "5ebaad43-8f6a-408d-ae78-1a227c5e9ca7",
   "metadata": {},
   "outputs": [
    {
     "name": "stdout",
     "output_type": "stream",
     "text": [
      "Using XGB : \n",
      "              precision    recall  f1-score   support\n",
      "\n",
      "           0       0.83      0.96      0.89      3225\n",
      "           1       0.95      0.80      0.87      3251\n",
      "\n",
      "    accuracy                           0.88      6476\n",
      "   macro avg       0.89      0.88      0.88      6476\n",
      "weighted avg       0.89      0.88      0.88      6476\n",
      "\n",
      "********************\n",
      "\n"
     ]
    }
   ],
   "source": [
    "print(\"Using XGB : \")\n",
    "print(classification_report(y_test , PredictionXGB))\n",
    "print(\"*\"*20)\n",
    "print()"
   ]
  },
  {
   "cell_type": "code",
   "execution_count": 80,
   "id": "628bec0f-cdf0-4c66-849b-cdab3024c503",
   "metadata": {},
   "outputs": [],
   "source": [
    "import joblib"
   ]
  },
  {
   "cell_type": "code",
   "execution_count": 82,
   "id": "4fcad41f-896e-4afb-be3e-64fae1f3356f",
   "metadata": {},
   "outputs": [
    {
     "data": {
      "text/plain": [
       "['AR_ModelXGB.pkl']"
      ]
     },
     "execution_count": 82,
     "metadata": {},
     "output_type": "execute_result"
    }
   ],
   "source": [
    "joblib.dump(ModelXGB, 'AR_ModelXGB.pkl')"
   ]
  },
  {
   "cell_type": "code",
   "execution_count": null,
   "id": "9b38912f-df8c-4af7-b03e-d12f73ae268a",
   "metadata": {},
   "outputs": [],
   "source": []
  }
 ],
 "metadata": {
  "kernelspec": {
   "display_name": "Python 3 (ipykernel)",
   "language": "python",
   "name": "python3"
  },
  "language_info": {
   "codemirror_mode": {
    "name": "ipython",
    "version": 3
   },
   "file_extension": ".py",
   "mimetype": "text/x-python",
   "name": "python",
   "nbconvert_exporter": "python",
   "pygments_lexer": "ipython3",
   "version": "3.11.5"
  }
 },
 "nbformat": 4,
 "nbformat_minor": 5
}
